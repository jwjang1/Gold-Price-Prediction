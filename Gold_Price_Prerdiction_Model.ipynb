{
  "nbformat": 4,
  "nbformat_minor": 0,
  "metadata": {
    "colab": {
      "provenance": [],
      "authorship_tag": "ABX9TyPiYOYlNdXit4qmKFhoJyt0",
      "include_colab_link": true
    },
    "kernelspec": {
      "name": "python3",
      "display_name": "Python 3"
    },
    "language_info": {
      "name": "python"
    }
  },
  "cells": [
    {
      "cell_type": "markdown",
      "metadata": {
        "id": "view-in-github",
        "colab_type": "text"
      },
      "source": [
        "<a href=\"https://colab.research.google.com/github/jwjang1/Gold-Price-Prediction/blob/main/Gold_Price_Prerdiction_Model.ipynb\" target=\"_parent\"><img src=\"https://colab.research.google.com/assets/colab-badge.svg\" alt=\"Open In Colab\"/></a>"
      ]
    },
    {
      "cell_type": "code",
      "execution_count": 5,
      "metadata": {
        "colab": {
          "base_uri": "https://localhost:8080/"
        },
        "id": "cZsj-cZeJBP6",
        "outputId": "401a6057-0847-4df4-9cc1-930462474ff4"
      },
      "outputs": [
        {
          "output_type": "stream",
          "name": "stdout",
          "text": [
            "         Date  Price   Open   High    Low  Volume  Chg%\n",
            "0  2024-11-06  77030  78300  78570  77030       0 -1.86\n",
            "1  2024-11-05  78490  78224  78670  78160       0  0.11\n",
            "2  2024-11-04  78401  78498  78642  78237       0 -0.54\n",
            "3  2024-11-01  78829  78650  78887  78550       0  0.64\n",
            "4  2024-10-31  78326  79264  79999  77803      90 -1.17\n"
          ]
        }
      ],
      "source": [
        "# 데이터 다운로드 및 로딩\n",
        "import kagglehub\n",
        "import pandas as pd\n",
        "import os\n",
        "\n",
        "# Download latest version\n",
        "path = kagglehub.dataset_download(\"nisargchodavadiya/daily-gold-price-20152021-time-series\")\n",
        "file_name = \"Gold Price.csv\"\n",
        "file_path = os.path.join(path, file_name)\n",
        "\n",
        "# Load the dataset\n",
        "data = pd.read_csv(file_path)\n",
        "\n",
        "# Preview the dataset\n",
        "print(data.head())"
      ]
    },
    {
      "cell_type": "code",
      "source": [],
      "metadata": {
        "colab": {
          "base_uri": "https://localhost:8080/"
        },
        "id": "CKQdrnWQKtkT",
        "outputId": "30d234e4-04e1-4dfd-8289-288e9590f94b"
      },
      "execution_count": 4,
      "outputs": [
        {
          "output_type": "stream",
          "name": "stdout",
          "text": [
            "         Date  Price   Open   High    Low  Volume  Chg%\n",
            "0  2024-11-06  77030  78300  78570  77030       0 -1.86\n",
            "1  2024-11-05  78490  78224  78670  78160       0  0.11\n",
            "2  2024-11-04  78401  78498  78642  78237       0 -0.54\n",
            "3  2024-11-01  78829  78650  78887  78550       0  0.64\n",
            "4  2024-10-31  78326  79264  79999  77803      90 -1.17\n"
          ]
        }
      ]
    },
    {
      "cell_type": "code",
      "source": [],
      "metadata": {
        "id": "Byb1aJlWL1PT"
      },
      "execution_count": null,
      "outputs": []
    }
  ]
}